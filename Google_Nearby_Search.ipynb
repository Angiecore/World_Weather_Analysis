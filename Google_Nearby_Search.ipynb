{
 "cells": [
  {
   "cell_type": "code",
   "execution_count": null,
   "id": "9f6ca0bb",
   "metadata": {},
   "outputs": [],
   "source": [
    "# 6.5.4 Practice Using a Fixed Latitude and Longitude"
   ]
  },
  {
   "cell_type": "code",
   "execution_count": 1,
   "id": "65ffbef4",
   "metadata": {},
   "outputs": [],
   "source": [
    "# Dependencies and Setup\n",
    "import requests\n",
    "import gmaps\n",
    "\n",
    "# Import API key\n",
    "from config import g_key"
   ]
  },
  {
   "cell_type": "code",
   "execution_count": 2,
   "id": "22ef5fd7",
   "metadata": {},
   "outputs": [],
   "source": [
    "# Set the parameters to search for a hotel in Paris.\n",
    "params = {\n",
    "    \"radius\": 5000,\n",
    "    \"types\": \"lodging\",\n",
    "    \"key\": g_key,\n",
    "    \"location\": \"48.8566, 2.3522\"}\n",
    "\n",
    "# Use base URL to search for hotels in Paris.\n",
    "base_url = \"https://maps.googleapis.com/maps/api/place/nearbysearch/json\"\n",
    "\n",
    "# Make request and get the JSON data from the search.\n",
    "hotels = requests.get(base_url, params=params).json()"
   ]
  },
  {
   "cell_type": "code",
   "execution_count": 3,
   "id": "dcb07c8d",
   "metadata": {},
   "outputs": [
    {
     "data": {
      "text/plain": [
       "20"
      ]
     },
     "execution_count": 3,
     "metadata": {},
     "output_type": "execute_result"
    }
   ],
   "source": [
    "len(hotels['results'])"
   ]
  },
  {
   "cell_type": "code",
   "execution_count": 4,
   "id": "57f81d84",
   "metadata": {},
   "outputs": [
    {
     "name": "stdout",
     "output_type": "stream",
     "text": [
      "{'html_attributions': [], 'next_page_token': 'Aap_uECftS3SnDjuF_KMd4KJTCBCNRNCQOyWBQHq3K_LdOvgZzTenECMtB6D2X0ZgB3tH2aFOAq7pMZhQ7N-KNoEiLUa90WsNUcFj9b0NoWE1up00fvTimJVhJSXogJgsANN8YJxbZx0NOeiZMYZ-PbimubhXQii4Yp2axVul-zmQSfNIl4etGPLGX9Cu8TjT9kdxLY9KaaJ05BHS38QsK3_O9HlASA3QmFSLwNjB1EMKgGrxe_WlX4aPQp6tzB9mY743iqHV1SYEcqTJX0PSTes7nyVf0yc5LZ24l2-a0JH5uecYYCf645ZMI2gtgDdm13ktKlMujx8YmetV2ijgoox1E5L3Z4UfjQdiFa_A5lKHqs_04vt1IiiM5PezzysYZr-Ak5--xD9nQpMGJJarLj7cc_fI9cUKqhxzXlBQlvVkd8lR77UEfZbs8G6', 'results': [{'business_status': 'OPERATIONAL', 'geometry': {'location': {'lat': 48.8581126, 'lng': 2.3529277}, 'viewport': {'northeast': {'lat': 48.8594360302915, 'lng': 2.354355480291502}, 'southwest': {'lat': 48.8567380697085, 'lng': 2.351657519708498}}}, 'icon': 'https://maps.gstatic.com/mapfiles/place_api/icons/v1/png_71/lodging-71.png', 'icon_background_color': '#909CE1', 'icon_mask_base_uri': 'https://maps.gstatic.com/mapfiles/place_api/icons/v2/hotel_pinlet', 'name': 'Hôtel Duo', 'opening_hours': {'open_now': True}, 'photos': [{'height': 3840, 'html_attributions': ['<a href=\"https://maps.google.com/maps/contrib/107554201425443337224\">Hôtel Duo</a>'], 'photo_reference': 'Aap_uEAVcHTIu1peCmwoWKJFVwWQ5QM4N7Sq7zjYm1YSTOKlqXC_LBPF5j3STDuHEuxa_85B70-jkMqOxvbFwboCm-rRHP252KiwhufEIwexQ4SIcSg_mmnGsFGdY4z4hvpzOeCUPcIJSbjNZ5ad0RAApPwGuo3QYhdsjBhp6PcJFVkq10iA', 'width': 5760}], 'place_id': 'ChIJWU9CqB1u5kcR5P1F2SMoJmc', 'plus_code': {'compound_code': 'V953+65 Paris, France', 'global_code': '8FW4V953+65'}, 'rating': 4.2, 'reference': 'ChIJWU9CqB1u5kcR5P1F2SMoJmc', 'scope': 'GOOGLE', 'types': ['night_club', 'spa', 'lodging', 'bar', 'gym', 'health', 'point_of_interest', 'establishment'], 'user_ratings_total': 317, 'vicinity': '11 Rue du Temple, Paris'}, {'business_status': 'OPERATIONAL', 'geometry': {'location': {'lat': 48.8582861, 'lng': 2.3464944}, 'viewport': {'northeast': {'lat': 48.85954748029151, 'lng': 2.347782830291502}, 'southwest': {'lat': 48.85684951970851, 'lng': 2.345084869708498}}}, 'icon': 'https://maps.gstatic.com/mapfiles/place_api/icons/v1/png_71/lodging-71.png', 'icon_background_color': '#909CE1', 'icon_mask_base_uri': 'https://maps.gstatic.com/mapfiles/place_api/icons/v2/hotel_pinlet', 'name': 'Hôtel Britannique - Paris Centre', 'opening_hours': {'open_now': True}, 'photos': [{'height': 1426, 'html_attributions': ['<a href=\"https://maps.google.com/maps/contrib/108984000175492464929\">Hôtel Britannique - Paris Centre</a>'], 'photo_reference': 'Aap_uEC7NSiMsl285rGqehHZGjcY02l2TQh-j58aWf-1JZJIUq22MjeHA0DCr6hroMV1CmfJHbjEt0enEg9abaAviOu6xentgp8HsLPOkFRrLfTjFhfggQ9MvzjJltFp9paFI1LJeKGBk0zlDFdXwlR47LfXVfL5PLRden3rFkQrYqnw5o4R', 'width': 1476}], 'place_id': 'ChIJ-4Siox9u5kcRm9vM6DcMXyU', 'plus_code': {'compound_code': 'V85W+8H Paris, France', 'global_code': '8FW4V85W+8H'}, 'rating': 4.6, 'reference': 'ChIJ-4Siox9u5kcRm9vM6DcMXyU', 'scope': 'GOOGLE', 'types': ['lodging', 'point_of_interest', 'establishment'], 'user_ratings_total': 687, 'vicinity': '20 Avenue Victoria, Paris'}, {'business_status': 'OPERATIONAL', 'geometry': {'location': {'lat': 48.8606655, 'lng': 2.3469293}, 'viewport': {'northeast': {'lat': 48.8617746302915, 'lng': 2.347927730291502}, 'southwest': {'lat': 48.8590766697085, 'lng': 2.345229769708499}}}, 'icon': 'https://maps.gstatic.com/mapfiles/place_api/icons/v1/png_71/lodging-71.png', 'icon_background_color': '#909CE1', 'icon_mask_base_uri': 'https://maps.gstatic.com/mapfiles/place_api/icons/v2/hotel_pinlet', 'name': 'Citadines Les Halles Paris', 'opening_hours': {'open_now': True}, 'photos': [{'height': 853, 'html_attributions': ['<a href=\"https://maps.google.com/maps/contrib/102565262508115704337\">Citadines Les Halles Paris (Apart hotel Paris)</a>'], 'photo_reference': 'Aap_uEBTn3QEz2Ru2y1s9mEMnZwceuDZ657jGBLNiUc5EZyau3jdUNr6nzAbzf0f9SmKAcxnSYZn7SK3BY-BZ-0Wto5KRXo_lA7G8AwiCs8HQSN2VtNgucuakHzP3Y2jadd_C7tc8vJtODq-KB8svQ_ixigK6gxx1amUoJ0CIiN11MHWYbTF', 'width': 1280}], 'place_id': 'ChIJQ_QDrxhu5kcRJzNxLLEOSfU', 'plus_code': {'compound_code': 'V86W+7Q Paris, France', 'global_code': '8FW4V86W+7Q'}, 'rating': 4.1, 'reference': 'ChIJQ_QDrxhu5kcRJzNxLLEOSfU', 'scope': 'GOOGLE', 'types': ['lodging', 'point_of_interest', 'establishment'], 'user_ratings_total': 889, 'vicinity': '4 Rue des Innocents, Paris'}, {'business_status': 'OPERATIONAL', 'geometry': {'location': {'lat': 48.8607658, 'lng': 2.3465318}, 'viewport': {'northeast': {'lat': 48.8620584302915, 'lng': 2.347692880291501}, 'southwest': {'lat': 48.85936046970851, 'lng': 2.344994919708498}}}, 'icon': 'https://maps.gstatic.com/mapfiles/place_api/icons/v1/png_71/lodging-71.png', 'icon_background_color': '#909CE1', 'icon_mask_base_uri': 'https://maps.gstatic.com/mapfiles/place_api/icons/v2/hotel_pinlet', 'name': 'Novotel Paris Les Halles', 'photos': [{'height': 2000, 'html_attributions': ['<a href=\"https://maps.google.com/maps/contrib/111815616573299411056\">Novotel Paris Les Halles</a>'], 'photo_reference': 'Aap_uEB0VXgUNcTNWKU4UPBQfL0pBdH0EKfevl0oysI1Sy0SpFGzpvHkdqgJYtpRYt2dJKW4A3LzTOqEMgSwtgTbb5eqvWV9ro2UVJhqu6vMmAlCmRmnPql3j0J2UBD74dLhrfV912EzgQ08QmJq7bfBVYU9mgGZhby0SnCvrP5fu6ViBX36', 'width': 3000}], 'place_id': 'ChIJGW2pNx9u5kcRI3oyL8NG5BQ', 'plus_code': {'compound_code': 'V86W+8J Paris, France', 'global_code': '8FW4V86W+8J'}, 'rating': 4.4, 'reference': 'ChIJGW2pNx9u5kcRI3oyL8NG5BQ', 'scope': 'GOOGLE', 'types': ['lodging', 'point_of_interest', 'establishment'], 'user_ratings_total': 2347, 'vicinity': '8 Place Marguerite de Navarre, Paris'}, {'business_status': 'OPERATIONAL', 'geometry': {'location': {'lat': 48.860352, 'lng': 2.3440948}, 'viewport': {'northeast': {'lat': 48.86165553029149, 'lng': 2.345549080291502}, 'southwest': {'lat': 48.8589575697085, 'lng': 2.342851119708498}}}, 'icon': 'https://maps.gstatic.com/mapfiles/place_api/icons/v1/png_71/lodging-71.png', 'icon_background_color': '#909CE1', 'icon_mask_base_uri': 'https://maps.gstatic.com/mapfiles/place_api/icons/v2/hotel_pinlet', 'name': 'Hôtel Ducs de Bourgogne', 'opening_hours': {'open_now': True}, 'photos': [{'height': 1390, 'html_attributions': ['<a href=\"https://maps.google.com/maps/contrib/101411638353598558320\">Hôtel Ducs de Bourgogne</a>'], 'photo_reference': 'Aap_uEAmt6mee_wiN41fkgekieI4zL_kVSVs5chBkPrICfyEznVow0uQbmjnZQvBYzV6cwryBZRbljOyo5pWu9KioA-WDuMCwnktrQJLHt2gmGYl7t5-AAdIbAu4Bvjq6SmK_hlGdExrYqq7ZLi4W3pevjobI9dtbfqYYiD5ZFZWto_vwX_I', 'width': 2048}], 'place_id': 'ChIJifTG5yFu5kcRdnisbwxnAx4', 'plus_code': {'compound_code': 'V86V+4J Paris, France', 'global_code': '8FW4V86V+4J'}, 'rating': 4.5, 'reference': 'ChIJifTG5yFu5kcRdnisbwxnAx4', 'scope': 'GOOGLE', 'types': ['lodging', 'point_of_interest', 'establishment'], 'user_ratings_total': 284, 'vicinity': '19 Rue du Pont Neuf, Paris'}, {'business_status': 'OPERATIONAL', 'geometry': {'location': {'lat': 48.8555091, 'lng': 2.3408736}, 'viewport': {'northeast': {'lat': 48.8569076302915, 'lng': 2.342319280291502}, 'southwest': {'lat': 48.8542096697085, 'lng': 2.339621319708498}}}, 'icon': 'https://maps.gstatic.com/mapfiles/place_api/icons/v1/png_71/lodging-71.png', 'icon_background_color': '#909CE1', 'icon_mask_base_uri': 'https://maps.gstatic.com/mapfiles/place_api/icons/v2/hotel_pinlet', 'name': 'Citadines Saint-Germain-des-Prés Paris (Apart hotel Paris)', 'opening_hours': {'open_now': True}, 'photos': [{'height': 4480, 'html_attributions': ['<a href=\"https://maps.google.com/maps/contrib/113188832595116816387\">Citadines Saint-Germain-des-Prés Paris</a>'], 'photo_reference': 'Aap_uECGzwQnInBE7VEGVE08n1uQ4dWGHqkG3sdrTrfAGb9bXvS6BYVKKfG-RFSk3pZSSqwtz47xy8n_KOLExjKg2sIANWlKtWz3VGPbQf_OvuSOEpNUFaN2Mgtcs_S7BpdnCZercow4mpGPKZ_fejgbcaLbXzPdqSygAUkd7RBJj8EmpsRV', 'width': 6720}], 'place_id': 'ChIJo5pYcN9x5kcRERXdocMgqmE', 'plus_code': {'compound_code': 'V84R+68 Paris, France', 'global_code': '8FW4V84R+68'}, 'rating': 4.3, 'reference': 'ChIJo5pYcN9x5kcRERXdocMgqmE', 'scope': 'GOOGLE', 'types': ['lodging', 'point_of_interest', 'establishment'], 'user_ratings_total': 724, 'vicinity': '53 ter Quai des Grands Augustins, Paris'}, {'business_status': 'OPERATIONAL', 'geometry': {'location': {'lat': 48.8524547, 'lng': 2.3472064}, 'viewport': {'northeast': {'lat': 48.8538838802915, 'lng': 2.348601530291502}, 'southwest': {'lat': 48.8511859197085, 'lng': 2.345903569708498}}}, 'icon': 'https://maps.gstatic.com/mapfiles/place_api/icons/v1/png_71/lodging-71.png', 'icon_background_color': '#909CE1', 'icon_mask_base_uri': 'https://maps.gstatic.com/mapfiles/place_api/icons/v2/hotel_pinlet', 'name': 'Hôtel Esmeralda', 'opening_hours': {'open_now': False}, 'photos': [{'height': 1960, 'html_attributions': ['<a href=\"https://maps.google.com/maps/contrib/106443224837840180239\">Fraz A. Khan</a>'], 'photo_reference': 'Aap_uEBsTHyXLURfdDmqxkRImDG4-uYqnvhSwajI25ufa07BIlnTMOIRSxYM5ed9szh6gsAuZetpCTlI7HvcoJaRjVZ3FiZETmEcdtWRUo9GQGS-5zmuQli-tLqIza6Ws9jmiu2ARqVILvmFEuk8JMApytYTA341s_UXTkYHwF6dDZh8Az2t', 'width': 4032}], 'place_id': 'ChIJO_g_H-Fx5kcRmaabUHA3dT4', 'plus_code': {'compound_code': 'V82W+XV Paris, France', 'global_code': '8FW4V82W+XV'}, 'rating': 4.1, 'reference': 'ChIJO_g_H-Fx5kcRmaabUHA3dT4', 'scope': 'GOOGLE', 'types': ['lodging', 'point_of_interest', 'establishment'], 'user_ratings_total': 157, 'vicinity': '4 Rue Saint-Julien le Pauvre, Paris'}, {'business_status': 'OPERATIONAL', 'geometry': {'location': {'lat': 48.8530901, 'lng': 2.3447174}, 'viewport': {'northeast': {'lat': 48.8544535802915, 'lng': 2.345997680291501}, 'southwest': {'lat': 48.85175561970851, 'lng': 2.343299719708498}}}, 'icon': 'https://maps.gstatic.com/mapfiles/place_api/icons/v1/png_71/lodging-71.png', 'icon_background_color': '#909CE1', 'icon_mask_base_uri': 'https://maps.gstatic.com/mapfiles/place_api/icons/v2/hotel_pinlet', 'name': 'Albe Hotel', 'opening_hours': {'open_now': True}, 'photos': [{'height': 1152, 'html_attributions': ['<a href=\"https://maps.google.com/maps/contrib/117571951379278191466\">Albe Hotel Saint Michel</a>'], 'photo_reference': 'Aap_uEBh3i0ixz3Ll9jbBqTygNVwwLu3GUufmf6qWfPD9ZTu5nbpKDTe6DzNHjnSMxu-4WGe7LZK87pR95i5s2XjLoUa6vi_F17Xtekq3taQUF9BskwJxpEEX6rX3h4FXmoMsgrJef7FxxkAeL_fiP6HkT02akQ9g0zSwtVKmFgVmh8xoi7N', 'width': 1600}], 'place_id': 'ChIJ8R5-hOBx5kcRsCOdfj8GLeY', 'plus_code': {'compound_code': 'V83V+6V Paris, France', 'global_code': '8FW4V83V+6V'}, 'rating': 4.4, 'reference': 'ChIJ8R5-hOBx5kcRsCOdfj8GLeY', 'scope': 'GOOGLE', 'types': ['lodging', 'point_of_interest', 'establishment'], 'user_ratings_total': 343, 'vicinity': '1 Rue de la Harpe, Paris'}, {'business_status': 'OPERATIONAL', 'geometry': {'location': {'lat': 48.8532403, 'lng': 2.3457375}, 'viewport': {'northeast': {'lat': 48.85462748029149, 'lng': 2.347175730291502}, 'southwest': {'lat': 48.8519295197085, 'lng': 2.344477769708498}}}, 'icon': 'https://maps.gstatic.com/mapfiles/place_api/icons/v1/png_71/lodging-71.png', 'icon_background_color': '#909CE1', 'icon_mask_base_uri': 'https://maps.gstatic.com/mapfiles/place_api/icons/v2/hotel_pinlet', 'name': 'Les Rives de Notre-Dame Hotel', 'opening_hours': {'open_now': True}, 'photos': [{'height': 2268, 'html_attributions': ['<a href=\"https://maps.google.com/maps/contrib/109297776903693488857\">Sandro Nardella</a>'], 'photo_reference': 'Aap_uEA6kBtindC7zq4I06GHmHTtTKIFmbWof1u62um0EsbNVegzsRV1zymFU4zhxQiR9_cTmXBweNlIbSIYSd7cDc8InaJ63S8HHsHVsnR3duOSLF3ZF1-S0SpESzfz3DsNf4ibL6vNXg4Tw5hQjmGvCRMd-HA4OHdZtTlQMesIGMqMugFa', 'width': 4032}], 'place_id': 'ChIJl7vs8-Bx5kcRfIQzq_4_XmU', 'plus_code': {'compound_code': 'V83W+77 Paris, France', 'global_code': '8FW4V83W+77'}, 'rating': 4.5, 'reference': 'ChIJl7vs8-Bx5kcRfIQzq_4_XmU', 'scope': 'GOOGLE', 'types': ['lodging', 'point_of_interest', 'establishment'], 'user_ratings_total': 94, 'vicinity': '15 Quai Saint-Michel, Paris'}, {'business_status': 'OPERATIONAL', 'geometry': {'location': {'lat': 48.85184049999999, 'lng': 2.3448082}, 'viewport': {'northeast': {'lat': 48.8531470802915, 'lng': 2.346121880291502}, 'southwest': {'lat': 48.8504491197085, 'lng': 2.343423919708498}}}, 'icon': 'https://maps.gstatic.com/mapfiles/place_api/icons/v1/png_71/lodging-71.png', 'icon_background_color': '#909CE1', 'icon_mask_base_uri': 'https://maps.gstatic.com/mapfiles/place_api/icons/v2/hotel_pinlet', 'name': 'Hôtel 4 étoiles Parc Saint Séverin Paris 5ème - Esprit de France', 'opening_hours': {'open_now': True}, 'photos': [{'height': 2362, 'html_attributions': ['<a href=\"https://maps.google.com/maps/contrib/107542132357877294567\">Hôtel 4 étoiles Parc Saint Séverin Paris 5ème - Esprit de France</a>'], 'photo_reference': 'Aap_uEALScrRaL2TJdpYbhm7SkIyT0Ggv1L6Sdt_RbzXA04jMEQJyuduOsN67q3bpI4Zy7RCpUuzJr38uOIrpTczh4CqV-v0WjMk9smFoRQOjPhcLNktCAWgqizXBlxMKDJc5RFqOax70jBkzPm6x2qYOn4mp85CGZxPpZFURXzudLQ_DzNt', 'width': 3776}], 'place_id': 'ChIJ9--kuuBx5kcRojwQ1yEK2cY', 'plus_code': {'compound_code': 'V82V+PW Paris, France', 'global_code': '8FW4V82V+PW'}, 'rating': 4.6, 'reference': 'ChIJ9--kuuBx5kcRojwQ1yEK2cY', 'scope': 'GOOGLE', 'types': ['lodging', 'point_of_interest', 'establishment'], 'user_ratings_total': 159, 'vicinity': '22 Rue de la Parcheminerie, Paris'}, {'business_status': 'OPERATIONAL', 'geometry': {'location': {'lat': 48.8518743, 'lng': 2.3463436}, 'viewport': {'northeast': {'lat': 48.8532481802915, 'lng': 2.347596830291502}, 'southwest': {'lat': 48.8505502197085, 'lng': 2.344898869708498}}}, 'icon': 'https://maps.gstatic.com/mapfiles/place_api/icons/v1/png_71/lodging-71.png', 'icon_background_color': '#909CE1', 'icon_mask_base_uri': 'https://maps.gstatic.com/mapfiles/place_api/icons/v2/hotel_pinlet', 'name': 'Hotel Henri IV Rive Gauche', 'photos': [{'height': 3024, 'html_attributions': ['<a href=\"https://maps.google.com/maps/contrib/110759590658386679133\">François ART TAPIEZO</a>'], 'photo_reference': 'Aap_uEDw5ZWgLHoqubdJmzubPmYit27TjA_-m5kQipgd0sS4ANk-Suo3Vns_fzZ-kktoeV1vCi3EKI1UAXbr90ZVEoiGfjFgpP4yWPW8Hm_0Y0mezbk8t72exg9ePrzyjfh2cfMICmOP5mrr8qmErB2V2ROS6sqqtqbVfCwU5gTpNj-899W_', 'width': 4032}], 'place_id': 'ChIJ2a4f2-Bx5kcR40Wl3uv_53Y', 'plus_code': {'compound_code': 'V82W+PG Paris, France', 'global_code': '8FW4V82W+PG'}, 'rating': 4.5, 'reference': 'ChIJ2a4f2-Bx5kcR40Wl3uv_53Y', 'scope': 'GOOGLE', 'types': ['lodging', 'point_of_interest', 'establishment'], 'user_ratings_total': 142, 'vicinity': 'Rue Saint-Jacques, Paris'}, {'business_status': 'OPERATIONAL', 'geometry': {'location': {'lat': 48.8600866, 'lng': 2.3533543}, 'viewport': {'northeast': {'lat': 48.86148808029149, 'lng': 2.354740780291502}, 'southwest': {'lat': 48.85879011970849, 'lng': 2.352042819708498}}}, 'icon': 'https://maps.gstatic.com/mapfiles/place_api/icons/v1/png_71/lodging-71.png', 'icon_background_color': '#909CE1', 'icon_mask_base_uri': 'https://maps.gstatic.com/mapfiles/place_api/icons/v2/hotel_pinlet', 'name': 'Hôtel Beaubourg', 'opening_hours': {'open_now': True}, 'photos': [{'height': 3435, 'html_attributions': ['<a href=\"https://maps.google.com/maps/contrib/115421447635584539926\">Hôtel Beaubourg</a>'], 'photo_reference': 'Aap_uEDi91QvAnyq5cNq6GBjtNYdQiRSD0cUll-8jTSoVEuMnWZ0YMapcyYaq_DLwHuuGqguPreShyML8TmQ4JacMsdVzQwn1558da28APsjOuGJES7HfLkdRgfK0qB5_pesb9CSh4kKAY2AAIbfapdX7wSJxyGEAjjCETE3XMx4HfxKJyCM', 'width': 5153}], 'place_id': 'ChIJCdHKjhxu5kcR0YtyGr7Vftc', 'plus_code': {'compound_code': 'V963+28 Paris, France', 'global_code': '8FW4V963+28'}, 'rating': 4.2, 'reference': 'ChIJCdHKjhxu5kcR0YtyGr7Vftc', 'scope': 'GOOGLE', 'types': ['lodging', 'point_of_interest', 'establishment'], 'user_ratings_total': 146, 'vicinity': '11 Rue Simon le Franc, Paris'}, {'business_status': 'OPERATIONAL', 'geometry': {'location': {'lat': 48.859876, 'lng': 2.347049}, 'viewport': {'northeast': {'lat': 48.8610872802915, 'lng': 2.348425880291502}, 'southwest': {'lat': 48.8583893197085, 'lng': 2.345727919708498}}}, 'icon': 'https://maps.gstatic.com/mapfiles/place_api/icons/v1/png_71/lodging-71.png', 'icon_background_color': '#909CE1', 'icon_mask_base_uri': 'https://maps.gstatic.com/mapfiles/place_api/icons/v2/hotel_pinlet', 'name': \"Hôtel Des Ducs D'Anjou\", 'opening_hours': {'open_now': True}, 'photos': [{'height': 1400, 'html_attributions': ['<a href=\"https://maps.google.com/maps/contrib/115209143941459061727\">Hotel Des Ducs D&#39;Anjou</a>'], 'photo_reference': 'Aap_uEDSJU66a2WMmh-ETrCqYTz7B634pFxUmhgIFZiYPVin_E67uuFsjdT3Q2kc8XtqB3X1pmuQdEg_p32zTPPMYpltoyADdH0ltFMVlKHi8lTVE1QNx-MXBpziDol74intJe09FjwEAKn63BS9OBXXWBsmx28LTEMDeDN6-GDAqufysrtv', 'width': 1352}], 'place_id': 'ChIJ9ekWGR9u5kcRsS8j5TnWeSE', 'plus_code': {'compound_code': 'V85W+XR Paris, France', 'global_code': '8FW4V85W+XR'}, 'rating': 3.9, 'reference': 'ChIJ9ekWGR9u5kcRsS8j5TnWeSE', 'scope': 'GOOGLE', 'types': ['lodging', 'point_of_interest', 'establishment'], 'user_ratings_total': 306, 'vicinity': '1 Rue Sainte-Opportune, Paris'}, {'business_status': 'OPERATIONAL', 'geometry': {'location': {'lat': 48.8515237, 'lng': 2.3486679}, 'viewport': {'northeast': {'lat': 48.8529256302915, 'lng': 2.349962130291502}, 'southwest': {'lat': 48.8502276697085, 'lng': 2.347264169708498}}}, 'icon': 'https://maps.gstatic.com/mapfiles/place_api/icons/v1/png_71/lodging-71.png', 'icon_background_color': '#909CE1', 'icon_mask_base_uri': 'https://maps.gstatic.com/mapfiles/place_api/icons/v2/hotel_pinlet', 'name': 'Hotel Maison Colbert Member of Meliá Collection', 'opening_hours': {'open_now': True}, 'photos': [{'height': 3656, 'html_attributions': ['<a href=\"https://maps.google.com/maps/contrib/102194778927204133336\">Hotel Maison Colbert Member of Meliá Collection</a>'], 'photo_reference': 'Aap_uEDdqqgIaO3FiK1jWcJ9EvvSYhyjvCF3jym7wVirg8Eq5btgCwqqToi4jhZOH6yn41IYf9RrrX25MXOWyxQTXLSCOCyUyznW3Tc4AloLxnK3kTz8eHQAaZ9f__6tZkY8R_zW8oKTnzABVhGo6oy_Oz50oMYtmvklMevlfnEHVbe2AMYO', 'width': 3543}], 'place_id': 'ChIJI3vbSOFx5kcR84E4IeL2LqI', 'plus_code': {'compound_code': 'V82X+JF Paris, France', 'global_code': '8FW4V82X+JF'}, 'rating': 4.4, 'reference': 'ChIJI3vbSOFx5kcR84E4IeL2LqI', 'scope': 'GOOGLE', 'types': ['lodging', 'point_of_interest', 'establishment'], 'user_ratings_total': 232, 'vicinity': \"7 Rue de l'Hôtel Colbert, Paris\"}, {'business_status': 'OPERATIONAL', 'geometry': {'location': {'lat': 48.8499446, 'lng': 2.346247699999999}, 'viewport': {'northeast': {'lat': 48.8513264802915, 'lng': 2.347622530291501}, 'southwest': {'lat': 48.8486285197085, 'lng': 2.344924569708497}}}, 'icon': 'https://maps.gstatic.com/mapfiles/place_api/icons/v1/png_71/lodging-71.png', 'icon_background_color': '#909CE1', 'icon_mask_base_uri': 'https://maps.gstatic.com/mapfiles/place_api/icons/v2/hotel_pinlet', 'name': 'Home Latin', 'photos': [{'height': 606, 'html_attributions': ['<a href=\"https://maps.google.com/maps/contrib/105830788751825835396\">Peter Sheehan</a>'], 'photo_reference': 'Aap_uEBT-SwZv-3944dDmaqYZDH7R7bsJ8bZLvivD1UAYnzqJQDfHumeQU8b03Qxo7Wt9PxtmHqLXxFSe_Ybka6V94t23Kj-NlGU4o_RQCaqdB1JgpIk7qaw3pUaMyJFarjLHI9U6a_fAg-kfEAAcdtfIjVnixtpQXMjr6_FC2Kke7NorQ4h', 'width': 1080}], 'place_id': 'ChIJMWNDIudx5kcRupjNdNDYKkw', 'plus_code': {'compound_code': 'R8XW+XF Paris, France', 'global_code': '8FW4R8XW+XF'}, 'rating': 3.5, 'reference': 'ChIJMWNDIudx5kcRupjNdNDYKkw', 'scope': 'GOOGLE', 'types': ['lodging', 'point_of_interest', 'establishment'], 'user_ratings_total': 305, 'vicinity': '15-17 Rue du Sommerard, Paris'}, {'business_status': 'OPERATIONAL', 'geometry': {'location': {'lat': 48.8514465, 'lng': 2.3495407}, 'viewport': {'northeast': {'lat': 48.85276158029151, 'lng': 2.350874680291501}, 'southwest': {'lat': 48.85006361970851, 'lng': 2.348176719708498}}}, 'icon': 'https://maps.gstatic.com/mapfiles/place_api/icons/v1/png_71/lodging-71.png', 'icon_background_color': '#909CE1', 'icon_mask_base_uri': 'https://maps.gstatic.com/mapfiles/place_api/icons/v2/hotel_pinlet', 'name': 'Les Degrés de Notre Dame', 'photos': [{'height': 1984, 'html_attributions': ['<a href=\"https://maps.google.com/maps/contrib/115564994803632359392\">christophe etter</a>'], 'photo_reference': 'Aap_uEB6e5uswNZvAwNj7NGFAGVbYlzpWYc7mylsMobIbcocDajqAbGPjtiZ9ySbXZIkxmETAFCZ4wKhWkWJe4p8ufChsBb15kaLeQ--SDm2cHo8DtgoHW7LXa_cW5rt0z7sGIWUetMoPqCcV8heZl7aTZ3CQ7SD0-tbBxpGdF_NFhqf4AJk', 'width': 3968}], 'place_id': 'ChIJMyUCVOFx5kcRcLsa7V0Y1m4', 'plus_code': {'compound_code': 'V82X+HR Paris, France', 'global_code': '8FW4V82X+HR'}, 'rating': 3.8, 'reference': 'ChIJMyUCVOFx5kcRcLsa7V0Y1m4', 'scope': 'GOOGLE', 'types': ['lodging', 'point_of_interest', 'establishment'], 'user_ratings_total': 78, 'vicinity': '10 Rue des Grands Degrés, Paris'}, {'business_status': 'OPERATIONAL', 'geometry': {'location': {'lat': 48.85221300000001, 'lng': 2.3420703}, 'viewport': {'northeast': {'lat': 48.8535826302915, 'lng': 2.343484980291502}, 'southwest': {'lat': 48.8508846697085, 'lng': 2.340787019708498}}}, 'icon': 'https://maps.gstatic.com/mapfiles/place_api/icons/v1/png_71/lodging-71.png', 'icon_background_color': '#909CE1', 'icon_mask_base_uri': 'https://maps.gstatic.com/mapfiles/place_api/icons/v2/hotel_pinlet', 'name': 'Hôtel Du Lys', 'photos': [{'height': 3024, 'html_attributions': ['<a href=\"https://maps.google.com/maps/contrib/112515206369511571345\">Gary Knight</a>'], 'photo_reference': 'Aap_uEC-x273zgWRy-HQCeh1yslhHIBZy2g06apOd1wsRMpNG1302Wd2MIpH01s5nbTZeoI3tMh-zP3LLlINQrTd7D73r-iq_26GKTKwlsm7yz6e-NysV-zLsa6QV9PE7RwQXweTAmw4uwGQ-dK0plb4wnbLWakxIdFKjMpwOWIT4t5o2mEZ', 'width': 4032}], 'place_id': 'ChIJrcnEaN5x5kcRjjOnEG6_HHs', 'plus_code': {'compound_code': 'V82R+VR Paris, France', 'global_code': '8FW4V82R+VR'}, 'rating': 3.8, 'reference': 'ChIJrcnEaN5x5kcRjjOnEG6_HHs', 'scope': 'GOOGLE', 'types': ['lodging', 'point_of_interest', 'establishment'], 'user_ratings_total': 221, 'vicinity': '23 Rue Serpente, Paris'}, {'business_status': 'OPERATIONAL', 'geometry': {'location': {'lat': 48.8607212, 'lng': 2.342585}, 'viewport': {'northeast': {'lat': 48.8620849802915, 'lng': 2.343869380291502}, 'southwest': {'lat': 48.8593870197085, 'lng': 2.341171419708498}}}, 'icon': 'https://maps.gstatic.com/mapfiles/place_api/icons/v1/png_71/lodging-71.png', 'icon_background_color': '#909CE1', 'icon_mask_base_uri': 'https://maps.gstatic.com/mapfiles/place_api/icons/v2/hotel_pinlet', 'name': \"L'Empire Paris\", 'opening_hours': {'open_now': True}, 'photos': [{'height': 1123, 'html_attributions': ['<a href=\"https://maps.google.com/maps/contrib/112201701198428774080\">L&#39;Empire Paris</a>'], 'photo_reference': 'Aap_uECgkatGMAv_ISWGTIx9qjG_fs_wQniMygNiizMBbbXRUmfz_twIPU_JBkwicIuRADU3EY-35w8riWvaqb14_gNwxiy1xD82W2Oy0CcpbmvrEHwEo2M8G2-lzSUiHIoZgVRru6aRB3nGkY5EJOyVclJnlBqsuAtYWrX5zERD6AA6F0qA', 'width': 2000}], 'place_id': 'ChIJ0Wj4hCFu5kcRQ67Hb2M6b9Q', 'plus_code': {'compound_code': 'V86V+72 Paris, France', 'global_code': '8FW4V86V+72'}, 'rating': 4.2, 'reference': 'ChIJ0Wj4hCFu5kcRQ67Hb2M6b9Q', 'scope': 'GOOGLE', 'types': ['lodging', 'point_of_interest', 'establishment'], 'user_ratings_total': 448, 'vicinity': \"48 Rue de l'Arbre Sec, Paris\"}, {'business_status': 'OPERATIONAL', 'geometry': {'location': {'lat': 48.85924579999999, 'lng': 2.341004799999999}, 'viewport': {'northeast': {'lat': 48.8606175802915, 'lng': 2.342363980291502}, 'southwest': {'lat': 48.8579196197085, 'lng': 2.339666019708498}}}, 'icon': 'https://maps.gstatic.com/mapfiles/place_api/icons/v1/png_71/lodging-71.png', 'icon_background_color': '#909CE1', 'icon_mask_base_uri': 'https://maps.gstatic.com/mapfiles/place_api/icons/v2/hotel_pinlet', 'name': 'Hotel Relais Du Louvre', 'photos': [{'height': 3024, 'html_attributions': ['<a href=\"https://maps.google.com/maps/contrib/113229819060416823993\">Constance Fodé</a>'], 'photo_reference': 'Aap_uEDT_EFw_7KoQ7tkmEO3r7YwP_HXrESSaSZQnGBHB7o-RLVWJEEv2buNKmDx2jJRIA6Vht5IrUkhKbZmCyxVUDcp2krYuVgqTXyQQvAHINS6RXL9tGWZESdni9ZIwbduNN9oPD0JXq6JcbSwNjQw8LYi4rOphcBDUoLaHqdxc8Ne59fa', 'width': 4032}], 'place_id': 'ChIJb4ExGiFu5kcRx-LufqT5JSw', 'plus_code': {'compound_code': 'V85R+MC Paris, France', 'global_code': '8FW4V85R+MC'}, 'rating': 4.6, 'reference': 'ChIJb4ExGiFu5kcRx-LufqT5JSw', 'scope': 'GOOGLE', 'types': ['lodging', 'point_of_interest', 'establishment'], 'user_ratings_total': 127, 'vicinity': \"19 Rue des Prêtres Saint-Germain l'Auxerrois, Paris\"}, {'business_status': 'OPERATIONAL', 'geometry': {'location': {'lat': 48.8632711, 'lng': 2.352693}, 'viewport': {'northeast': {'lat': 48.86461498029149, 'lng': 2.353958580291502}, 'southwest': {'lat': 48.8619170197085, 'lng': 2.351260619708498}}}, 'icon': 'https://maps.gstatic.com/mapfiles/place_api/icons/v1/png_71/lodging-71.png', 'icon_background_color': '#909CE1', 'icon_mask_base_uri': 'https://maps.gstatic.com/mapfiles/place_api/icons/v2/hotel_pinlet', 'name': 'Hotel Georgette', 'opening_hours': {'open_now': True}, 'photos': [{'height': 1181, 'html_attributions': ['<a href=\"https://maps.google.com/maps/contrib/112851757923591367842\">Hotel Georgette</a>'], 'photo_reference': 'Aap_uEA7YmgnfaPLNuPigGfzMNxpo-ZsPAEPrS1AYjHjoScsvz-WRuaqiHTY9KEZGrCA1xiPzC3NNXk6gK7tuoY9fK4QbJhRKeA-PZus4Vhi9NB2QXRsKHo9Hd8YvGUdqn-FwFTzAp0N4QtjxdEbNLkKSV7MNDcAYNJeLNl8V1Tw3qWw0Pa1', 'width': 1772}], 'place_id': 'ChIJZ6OWsRtu5kcRuyOkJ6_e06E', 'plus_code': {'compound_code': 'V973+83 Paris, France', 'global_code': '8FW4V973+83'}, 'rating': 4.5, 'reference': 'ChIJZ6OWsRtu5kcRuyOkJ6_e06E', 'scope': 'GOOGLE', 'types': ['lodging', 'point_of_interest', 'establishment'], 'user_ratings_total': 187, 'vicinity': '36 Rue du Grenier-Saint-Lazare, Paris'}], 'status': 'OK'}\n"
     ]
    }
   ],
   "source": [
    "print(hotels)"
   ]
  },
  {
   "cell_type": "code",
   "execution_count": 5,
   "id": "ae465910",
   "metadata": {},
   "outputs": [
    {
     "data": {
      "text/plain": [
       "'Hôtel Duo'"
      ]
     },
     "execution_count": 5,
     "metadata": {},
     "output_type": "execute_result"
    }
   ],
   "source": [
    "# How would you retrieve the name of the first hotel in the results dictionary?\n",
    "\n",
    "hotels[\"results\"][0][\"name\"]"
   ]
  },
  {
   "cell_type": "code",
   "execution_count": null,
   "id": "b90a48dd",
   "metadata": {},
   "outputs": [],
   "source": []
  }
 ],
 "metadata": {
  "kernelspec": {
   "display_name": "Pythondata",
   "language": "python",
   "name": "pythondata"
  },
  "language_info": {
   "codemirror_mode": {
    "name": "ipython",
    "version": 3
   },
   "file_extension": ".py",
   "mimetype": "text/x-python",
   "name": "python",
   "nbconvert_exporter": "python",
   "pygments_lexer": "ipython3",
   "version": "3.7.11"
  }
 },
 "nbformat": 4,
 "nbformat_minor": 5
}
